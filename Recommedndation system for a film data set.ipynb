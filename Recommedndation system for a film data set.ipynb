{
 "cells": [
  {
   "cell_type": "code",
   "execution_count": 1,
   "id": "29c7aedf",
   "metadata": {},
   "outputs": [],
   "source": [
    "import pandas as pd\n",
    "import numpy as np\n",
    "import io\n",
    "import mercury as mr #using mercurey lib\n",
    "import matplotlib.pyplot as plt\n",
    "\n",
    "movies = pd.read_csv(r\"G:\\Practice_code\\nlp\\tmdb_5000_movies.csv\")\n",
    "credits = pd.read_csv(r\"G:\\Practice_code\\nlp\\tmdb_5000_credits.csv\")"
   ]
  },
  {
   "cell_type": "code",
   "execution_count": 2,
   "id": "a7c7926f",
   "metadata": {},
   "outputs": [],
   "source": [
    "movies = movies.merge(credits,on = 'title')\n",
    "movies = movies[['movie_id','title','overview','genres','keywords','cast','crew']]\n",
    "movies.dropna(inplace = True)\n",
    "movies.isnull().sum()\n",
    "movies.duplicated().sum()\n",
    "\n",
    "import ast\n",
    "\n",
    "def convert(text):\n",
    "    L=[]\n",
    "    for i in ast.literal_eval(text):\n",
    "        L.append(i['name'])\n",
    "    return L\n",
    "movies['genres'] = movies['genres'].apply(convert)\n",
    "movies['keywords'] =movies['keywords'].apply(convert)\n",
    "\n",
    "def convert_2(text):\n",
    "    L =[]\n",
    "    counter = 0\n",
    "    for i in ast.literal_eval(text):\n",
    "        if counter<3:\n",
    "            L.append(i['name'])\n",
    "        counter +=1\n",
    "    return L\n",
    "movies['cast'] = movies['cast'].apply(convert_2)\n",
    "#print(movies.head())\n",
    "\n",
    "def convert_3(text):\n",
    "    L=[]\n",
    "    for i in ast.literal_eval(text):\n",
    "        if i['job'] == 'Director':\n",
    "            L.append(i['name'])\n",
    "    return L\n",
    "movies['crew'] = movies['crew'].apply(convert_3)\n",
    "movies['overview'] = movies['overview'].apply(lambda x:x.split())\n",
    "\n",
    "def remove_space(L):\n",
    "    L1=[]\n",
    "    for i in L:\n",
    "        L1.append(i.replace(\" \",\"\"))\n",
    "    return L1\n"
   ]
  },
  {
   "cell_type": "code",
   "execution_count": 3,
   "id": "8e02b5c3",
   "metadata": {},
   "outputs": [
    {
     "name": "stderr",
     "output_type": "stream",
     "text": [
      "C:\\Users\\PIUS\\AppData\\Local\\Temp\\ipykernel_21072\\3513137135.py:9: SettingWithCopyWarning: \n",
      "A value is trying to be set on a copy of a slice from a DataFrame.\n",
      "Try using .loc[row_indexer,col_indexer] = value instead\n",
      "\n",
      "See the caveats in the documentation: https://pandas.pydata.org/pandas-docs/stable/user_guide/indexing.html#returning-a-view-versus-a-copy\n",
      "  new_movies['Mark'] = movies['Mark'].apply(lambda x: \" \".join(x))\n",
      "C:\\Users\\PIUS\\AppData\\Local\\Temp\\ipykernel_21072\\3513137135.py:10: SettingWithCopyWarning: \n",
      "A value is trying to be set on a copy of a slice from a DataFrame.\n",
      "Try using .loc[row_indexer,col_indexer] = value instead\n",
      "\n",
      "See the caveats in the documentation: https://pandas.pydata.org/pandas-docs/stable/user_guide/indexing.html#returning-a-view-versus-a-copy\n",
      "  new_movies['Mark'] = new_movies['Mark'].apply(lambda x:x.lower())\n"
     ]
    }
   ],
   "source": [
    "movies['cast'] = movies['cast'].apply(remove_space)\n",
    "movies['crew'] = movies['crew'].apply(remove_space)\n",
    "movies['genres'] = movies['genres'].apply(remove_space)\n",
    "movies['keywords'] = movies['keywords'].apply(remove_space)\n",
    "\n",
    "movies['Mark'] = movies['overview'] + movies['genres'] + movies['keywords'] + movies['cast'] + movies['crew']\n",
    "\n",
    "new_movies = movies[['movie_id','title','Mark']]\n",
    "new_movies['Mark'] = movies['Mark'].apply(lambda x: \" \".join(x))\n",
    "new_movies['Mark'] = new_movies['Mark'].apply(lambda x:x.lower())"
   ]
  },
  {
   "cell_type": "code",
   "execution_count": 7,
   "id": "94bcfd86",
   "metadata": {},
   "outputs": [
    {
     "name": "stdout",
     "output_type": "stream",
     "text": [
      "Enter your query: Batman Begins\n"
     ]
    },
    {
     "name": "stderr",
     "output_type": "stream",
     "text": [
      "C:\\Users\\PIUS\\AppData\\Local\\Temp\\ipykernel_21072\\2072656329.py:14: SettingWithCopyWarning: \n",
      "A value is trying to be set on a copy of a slice from a DataFrame.\n",
      "Try using .loc[row_indexer,col_indexer] = value instead\n",
      "\n",
      "See the caveats in the documentation: https://pandas.pydata.org/pandas-docs/stable/user_guide/indexing.html#returning-a-view-versus-a-copy\n",
      "  new_movies['Mark'] = new_movies['Mark'].apply(stemming)\n"
     ]
    },
    {
     "name": "stdout",
     "output_type": "stream",
     "text": [
      "The Dark Knight\n",
      "Batman\n",
      "Batman\n",
      "The Dark Knight Rises\n",
      "10th & Wolf\n"
     ]
    }
   ],
   "source": [
    "query=input(\"Enter your query: \")\n",
    "from sklearn.feature_extraction.text import CountVectorizer\n",
    "cv =CountVectorizer(max_features=5000,stop_words='english')\n",
    "vec = cv.fit_transform(new_movies['Mark']).toarray()\n",
    "vec[1]\n",
    "import nltk\n",
    "from nltk.stem.porter import PorterStemmer\n",
    "ps = PorterStemmer()\n",
    "def stemming(text):\n",
    "    list2 = []\n",
    "    for i in text.split():\n",
    "        list2.append(ps.stem(i))\n",
    "    return \" \".join(list2)\n",
    "new_movies['Mark'] = new_movies['Mark'].apply(stemming)\n",
    "new_movies['Mark']\n",
    "vector1 = cv.fit_transform(new_movies['Mark']).toarray()\n",
    "vector1[1]\n",
    "#cv.get_feature_names()\n",
    "from sklearn.metrics.pairwise import cosine_similarity\n",
    "similarity = cosine_similarity(vector1)\n",
    "similarity\n",
    "\n",
    "def recommended(movie):\n",
    "    fetch_index = new_movies[new_movies['title'] == movie].index[0]\n",
    "    distance = similarity[fetch_index]\n",
    "    final_list = sorted(list(enumerate(distance)),reverse=True,key=lambda x:x[1])[1:6]\n",
    "    for i in final_list:\n",
    "        print(new_movies.iloc[i[0]].title)\n",
    "recommended(query)"
   ]
  },
  {
   "cell_type": "code",
   "execution_count": null,
   "id": "4dd6611a",
   "metadata": {},
   "outputs": [],
   "source": []
  },
  {
   "cell_type": "code",
   "execution_count": null,
   "id": "299d9c4c",
   "metadata": {},
   "outputs": [],
   "source": []
  }
 ],
 "metadata": {
  "kernelspec": {
   "display_name": "Python 3 (ipykernel)",
   "language": "python",
   "name": "python3"
  },
  "language_info": {
   "codemirror_mode": {
    "name": "ipython",
    "version": 3
   },
   "file_extension": ".py",
   "mimetype": "text/x-python",
   "name": "python",
   "nbconvert_exporter": "python",
   "pygments_lexer": "ipython3",
   "version": "3.8.10"
  }
 },
 "nbformat": 4,
 "nbformat_minor": 5
}
